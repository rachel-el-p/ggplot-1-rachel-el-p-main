{
 "cells": [
  {
   "cell_type": "markdown",
   "metadata": {},
   "source": [
    "# Describing the same data with summary statistics"
   ]
  },
  {
   "cell_type": "markdown",
   "metadata": {},
   "source": [
    "### Python and R Setup\n",
    "\n",
    "This setup allows you to use *Python* and *R* in the same notebook.\n",
    "\n",
    "To set up a similar notebook, see quickstart instructions here:\n",
    "\n",
    "https://github.com/dmil/jupyter-quickstart\n",
    "\n"
   ]
  },
  {
   "cell_type": "code",
   "execution_count": 1,
   "metadata": {},
   "outputs": [],
   "source": [
    "%load_ext rpy2.ipython\n",
    "%load_ext autoreload\n",
    "%autoreload 2\n",
    "\n",
    "%matplotlib inline  \n",
    "from matplotlib import rcParams\n",
    "rcParams['figure.figsize'] = (16, 100)\n",
    "\n",
    "import warnings\n",
    "from rpy2.rinterface import RRuntimeWarning\n",
    "warnings.filterwarnings(\"ignore\") # Ignore all warnings\n",
    "# warnings.filterwarnings(\"ignore\", category=RRuntimeWarning) # Show some warnings\n",
    "\n",
    "import pandas as pd\n",
    "import numpy as np\n",
    "import matplotlib.pyplot as plt\n",
    "from IPython.display import display, HTML"
   ]
  },
  {
   "cell_type": "code",
   "execution_count": 2,
   "metadata": {},
   "outputs": [
    {
     "data": {
      "application/javascript": [
       "// Disable auto-scrolling\n",
       "IPython.OutputArea.prototype._should_scroll = function(lines) {\n",
       "    return false;\n",
       "}\n"
      ],
      "text/plain": [
       "<IPython.core.display.Javascript object>"
      ]
     },
     "metadata": {},
     "output_type": "display_data"
    }
   ],
   "source": [
    "%%javascript\n",
    "// Disable auto-scrolling\n",
    "IPython.OutputArea.prototype._should_scroll = function(lines) {\n",
    "    return false;\n",
    "}"
   ]
  },
  {
   "cell_type": "markdown",
   "metadata": {},
   "source": [
    "### Import packages in R"
   ]
  },
  {
   "cell_type": "code",
   "execution_count": 6,
   "metadata": {},
   "outputs": [],
   "source": [
    "%%R\n",
    "\n",
    "require('tidyverse')\n"
   ]
  },
  {
   "cell_type": "markdown",
   "metadata": {},
   "source": [
    "### Read data"
   ]
  },
  {
   "cell_type": "code",
   "execution_count": 7,
   "metadata": {},
   "outputs": [
    {
     "name": "stdout",
     "output_type": "stream",
     "text": [
      "Rows: 189 Columns: 12\n",
      "── Column specification ────────────────────────────────────────────────────────\n",
      "Delimiter: \",\"\n",
      "chr  (1): borough\n",
      "dbl (11): zip, population, pct_hispanic_or_latino, pct_asian, pct_american_i...\n",
      "\n",
      "ℹ Use `spec()` to retrieve the full column specification for this data.\n",
      "ℹ Specify the column types or set `show_col_types = FALSE` to quiet this message.\n"
     ]
    }
   ],
   "source": [
    "%%R\n",
    "\n",
    "# Read data\n",
    "df <- read_csv('housing_data.csv')"
   ]
  },
  {
   "cell_type": "code",
   "execution_count": 8,
   "metadata": {},
   "outputs": [
    {
     "name": "stdout",
     "output_type": "stream",
     "text": [
      "# A tibble: 189 × 12\n",
      "     zip popul…¹ borough pct_h…² pct_a…³ pct_a…⁴ pct_b…⁵ pct_w…⁶ pct_n…⁷ pct_s…⁸\n",
      "   <dbl>   <dbl> <chr>     <dbl>   <dbl>   <dbl>   <dbl>   <dbl>   <dbl>   <dbl>\n",
      " 1 11368  112088 QUEENS    76.5    11.6     0.09    7.12    3.73    0       0.37\n",
      " 2 11385  107796 QUEENS    45.0     6.46    0.03    1.77   45.3     0       0.32\n",
      " 3 11211  103123 BROOKL…   24.1     5.53    0.19    3.56   64.2     0.02    0.29\n",
      " 4 11208  101313 BROOKL…   40.6     6.01    0.03   48.9     2.71    0       0.76\n",
      " 5 10467  101255 BRONX     52.1     5.68    0.35   30.4     9.24    0.02    0.76\n",
      " 6 11236  100844 BROOKL…    7.66    2.58    0.09   84.0     4.13    0       0.44\n",
      " 7 11226   99558 BROOKL…   16.4     3.07    0.15   64.8    13.0     0       0.71\n",
      " 8 11373   94437 QUEENS    41.7    48.5     0.34    1.62    6.18    0.01    0.5 \n",
      " 9 11234   93534 BROOKL…   11.1     7.19    0.13   42.9    37.2     0       0.26\n",
      "10 11220   93170 BROOKL…   41.3    41.4     0.07    1.9    13.9     0       0.25\n",
      "# … with 179 more rows, 2 more variables: pct_two_or_more_races <dbl>,\n",
      "#   pct_below_poverty <dbl>, and abbreviated variable names ¹​population,\n",
      "#   ²​pct_hispanic_or_latino, ³​pct_asian,\n",
      "#   ⁴​pct_american_indian_and_alaska_native, ⁵​pct_black_or_african_american,\n",
      "#   ⁶​pct_white, ⁷​pct_native_hawaiian_and_other_pacific_islander,\n",
      "#   ⁸​pct_some_other_race\n",
      "# ℹ Use `print(n = ...)` to see more rows, and `colnames()` to see all variable names\n"
     ]
    }
   ],
   "source": [
    "%%R\n",
    "\n",
    "df"
   ]
  },
  {
   "cell_type": "markdown",
   "metadata": {},
   "source": [
    "### R syntax - getting a column\n",
    "in R, the `$` lets you grab a column of a dataframe\n",
    "\n",
    "in Python this might be something like `df[\"pct_below_poverty\"]"
   ]
  },
  {
   "cell_type": "code",
   "execution_count": 9,
   "metadata": {},
   "outputs": [
    {
     "name": "stdout",
     "output_type": "stream",
     "text": [
      "  [1] 19.69 10.68 25.22 25.68 25.20 12.53 15.74 13.10  7.51 27.25 37.16 16.29\n",
      " [13] 14.27 28.50  9.13 34.96 34.92 34.92 19.92 34.02 10.81 21.34 13.64 37.77\n",
      " [25] 18.65 21.76 27.14 29.75 17.12 32.86 20.80 14.55 19.09 34.41 36.23 17.82\n",
      " [37] 37.14 27.36  8.43 18.51 15.60 15.60 16.71 16.71  7.09 19.42 31.16 10.97\n",
      " [49] 22.69 25.27 11.76  9.46 14.83 12.35 20.76 12.79  7.96  5.88 13.45 21.97\n",
      " [61] 26.48 35.61  6.01  6.01 17.62 23.54  7.40 16.98 17.25 11.89  9.20  9.24\n",
      " [73] 19.84  8.20  9.92 15.38 29.09 33.55 11.51 36.13 10.76 27.67  5.30 28.12\n",
      " [85] 12.80 21.04 12.24 12.07  5.21 12.73 13.69 11.31 12.32 18.21 38.14 13.26\n",
      " [97]  6.77  3.15 10.37 14.53 21.56  5.32 23.14  8.72 15.03 18.67  7.53 14.71\n",
      "[109]  8.18 12.63 43.12 16.36  9.33 10.18  9.27  7.39 36.77 11.51 10.82  6.63\n",
      "[121]  6.37 11.56 15.20 16.85 13.37  3.98 27.58 27.58  5.79  9.20 16.08  5.88\n",
      "[133]  4.36 10.73 14.33  9.68  3.17 25.47  8.03 23.01  8.07 14.11 20.15 10.14\n",
      "[145]  8.54 13.06 16.41  9.90 11.08 18.57  9.25  2.45 25.60 11.19  4.05  7.68\n",
      "[157] 25.16 11.24  7.16 10.13  7.64  7.64  6.03 16.88 10.68  6.49 12.50  6.06\n",
      "[169]  4.67 11.54 14.34 24.84 10.56 47.90  4.87 14.16  9.46  5.86  2.16  6.96\n",
      "[181]  9.25  2.81  2.33  7.01  7.11  1.32  3.36  0.00 72.77\n"
     ]
    }
   ],
   "source": [
    "%%R\n",
    "\n",
    "# Get a column\n",
    "df$pct_below_poverty"
   ]
  },
  {
   "cell_type": "markdown",
   "metadata": {},
   "source": [
    "### R syntax - the almighty pipe `%>%`\n",
    "\n",
    "The pipe (`%>%`) takes the output of the previous function and makes it the input to the next\n",
    "\n",
    "https://towardsdatascience.com/an-introduction-to-the-pipe-in-r-823090760d64\n"
   ]
  },
  {
   "cell_type": "code",
   "execution_count": 10,
   "metadata": {},
   "outputs": [
    {
     "name": "stdout",
     "output_type": "stream",
     "text": [
      "[1] 15.87868\n"
     ]
    }
   ],
   "source": [
    "%%R \n",
    "\n",
    "df$pct_below_poverty %>% \n",
    "    mean()\n",
    "\n",
    "# Equivalent to...\n",
    "mean(df$pct_below_poverty)"
   ]
  },
  {
   "cell_type": "code",
   "execution_count": 11,
   "metadata": {},
   "outputs": [
    {
     "name": "stdout",
     "output_type": "stream",
     "text": [
      "[1] 13.06\n"
     ]
    }
   ],
   "source": [
    "%%R\n",
    "\n",
    "df$pct_below_poverty %>% \n",
    "    median()"
   ]
  },
  {
   "cell_type": "code",
   "execution_count": 12,
   "metadata": {},
   "outputs": [
    {
     "name": "stdout",
     "output_type": "stream",
     "text": [
      "[1] 108.451\n"
     ]
    }
   ],
   "source": [
    "%%R \n",
    "\n",
    "df$pct_below_poverty %>% \n",
    "    var()"
   ]
  },
  {
   "cell_type": "code",
   "execution_count": 13,
   "metadata": {},
   "outputs": [
    {
     "name": "stdout",
     "output_type": "stream",
     "text": [
      "[1] 10.41398\n"
     ]
    }
   ],
   "source": [
    "%%R \n",
    "\n",
    "df$pct_below_poverty %>% \n",
    "    sd()"
   ]
  },
  {
   "cell_type": "code",
   "execution_count": 14,
   "metadata": {},
   "outputs": [
    {
     "name": "stdout",
     "output_type": "stream",
     "text": [
      "# A tibble: 5 × 4\n",
      "  borough        mean median standard_deviation\n",
      "  <chr>         <dbl>  <dbl>              <dbl>\n",
      "1 BRONX          26.7  28.7               11.6 \n",
      "2 BROOKLYN       18.6  17.2                8.20\n",
      "3 MANHATTAN      13.8  11.0                9.41\n",
      "4 QUEENS         12.0  10.7                9.06\n",
      "5 STATEN ISLAND  12.0   9.24               6.58\n"
     ]
    }
   ],
   "source": [
    "%%R \n",
    "\n",
    "df %>% \n",
    "    group_by(borough) %>%\n",
    "    summarize(\n",
    "        mean=mean(pct_below_poverty), \n",
    "        median=median(pct_below_poverty), \n",
    "        standard_deviation=sd(pct_below_poverty))"
   ]
  },
  {
   "cell_type": "markdown",
   "metadata": {},
   "source": [
    "**👉 Try It**\n",
    "Compare the summary statistics to the distributions in your previous assignment. What story do they tell? What stories do they obscure? Why was it important to plot the data in the case of this dataset? What did you gain from plotting the `pct_below_poverty` distribution in various different ways?\n",
    "\n",
    "> I think in general, without plotting, we miss the density of the distribution. For example, while Manhattan's median poverty rate is 11%, we see from the charts there are a number of neighborhoods with poverty rates around or above 20%. Similarly, with Bronx, which has the highest median poverty rates, there were a number of neighborhooods with higher than 30% poverty rate too.\n",
    "\n",
    ">Without plotting the charts, we wouldn't be able to spot outliers either, such as the more than 60% poverty rate in Jamaica, Queens — which otherwise looks like a borough with a relatively low poverty rate — and Mott Haven and Hunts Point in the Bronx.\n",
    "\n",
    ">However, I think with these summary statistics, it's easier to see that Bronx has a wider spread of poor and non-poor neighborhoods, looking at the standard deviation. \n",
    "\n",
    ">I think the density plot and violin plot were especially helpful in seeing the spread of the data, and not just the peak (would the peak be the median?), while the box and whiskers plot helps you to see the lower and upper quartiles, which could be helpful for audiences to compare something like wealth or wages data to see where they lie. "
   ]
  },
  {
   "cell_type": "code",
   "execution_count": null,
   "metadata": {},
   "outputs": [],
   "source": []
  }
 ],
 "metadata": {
  "kernelspec": {
   "display_name": "Python 3 (ipykernel)",
   "language": "python",
   "name": "python3"
  },
  "language_info": {
   "codemirror_mode": {
    "name": "ipython",
    "version": 3
   },
   "file_extension": ".py",
   "mimetype": "text/x-python",
   "name": "python",
   "nbconvert_exporter": "python",
   "pygments_lexer": "ipython3",
   "version": "3.11.0rc2"
  }
 },
 "nbformat": 4,
 "nbformat_minor": 2
}
